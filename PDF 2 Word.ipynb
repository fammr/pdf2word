{
 "cells": [
  {
   "cell_type": "code",
   "execution_count": 74,
   "metadata": {
    "ExecuteTime": {
     "end_time": "2020-04-26T14:55:56.024997Z",
     "start_time": "2020-04-26T14:55:34.942866Z"
    }
   },
   "outputs": [],
   "source": [
    "# requirements\n",
    "\n",
    "!pip install -q tqdm\n",
    "!pip install -q pdf2image\n",
    "!pip install -q pytesseract\n",
    "!pip install -q Pillow\n",
    "!pip install -q python-docx"
   ]
  },
  {
   "cell_type": "code",
   "execution_count": 75,
   "metadata": {
    "ExecuteTime": {
     "end_time": "2020-04-26T14:55:56.045838Z",
     "start_time": "2020-04-26T14:55:56.028930Z"
    }
   },
   "outputs": [],
   "source": [
    "# imports\n",
    "\n",
    "from tqdm import tqdm\n",
    "from pdf2image import convert_from_path\n",
    "import pytesseract\n",
    "from PIL import Image\n",
    "\n",
    "from docx import Document\n",
    "from docx.enum.text import WD_ALIGN_PARAGRAPH\n",
    "\n",
    "\n",
    "import os\n",
    "import tempfile"
   ]
  },
  {
   "cell_type": "code",
   "execution_count": 76,
   "metadata": {
    "ExecuteTime": {
     "end_time": "2020-04-26T14:55:56.100974Z",
     "start_time": "2020-04-26T14:55:56.053395Z"
    }
   },
   "outputs": [],
   "source": [
    "def pdf_to_word(pdf_path, output_dir, lang='fas', **kwargs):\n",
    "    \"\"\" \n",
    "    A way to use google-tesseract ocr for extracting \n",
    "    texts from pdf file.\n",
    "    \n",
    "    Args:\n",
    "        pdf_path (str): PDF file path.\n",
    "        output_dir (str): Output directory.\n",
    "        lang (str): tesseract language support.\n",
    "    \"\"\"\n",
    "    \n",
    "    pdf_name = pdf_path.split('/')[-1].split('.')[0]\n",
    "    pages = convert_from_path(pdf_path, **kwargs)\n",
    "    texts = []\n",
    "    \n",
    "    print(f'PDF is preparing to convert into document [#{len(pages)} pages]')\n",
    "    for i, page in tqdm(enumerate(pages), position=0):\n",
    "        \n",
    "        with tempfile.TemporaryDirectory() as img_dir:\n",
    "            img_name = f'{pdf_name}-{i+1}.jpg'\n",
    "            img_path = os.path.join(img_dir, img_name)\n",
    "            \n",
    "            page.save(img_path, 'JPEG')\n",
    "            text = pytesseract.image_to_string(Image.open(img_path), lang=lang)\n",
    "            texts.append(text)\n",
    "    \n",
    "    document = Document()\n",
    "    style_normal = document.styles['Normal']\n",
    "    font = style_normal.font\n",
    "    font.name = 'Arial'\n",
    "    font.rtl = True\n",
    "    \n",
    "    style_h1 = document.styles['Heading 1']\n",
    "    font = style_h1.font\n",
    "    font.name = 'Arial'\n",
    "    font.rtl = True\n",
    "    \n",
    "    for i, text in tqdm(enumerate(texts), position=0):\n",
    "        heading = document.add_heading(f'صفحه: {i+1}', level=1)\n",
    "        heading.alignment = WD_ALIGN_PARAGRAPH.RIGHT\n",
    "        heading.style = document.styles['Heading 1']\n",
    "        \n",
    "        paragraph = document.add_paragraph(text)\n",
    "        paragraph.alignment = WD_ALIGN_PARAGRAPH.RIGHT\n",
    "        paragraph.style = document.styles['Normal']\n",
    "    \n",
    "    output_path = os.path.join(output_dir, f'{pdf_name}.docx')\n",
    "    document.save(output_path)\n",
    "    print(f'Done! Your document can be find here \"{output_path}\"')"
   ]
  },
  {
   "cell_type": "code",
   "execution_count": 77,
   "metadata": {
    "ExecuteTime": {
     "end_time": "2020-04-26T14:56:08.724063Z",
     "start_time": "2020-04-26T14:55:56.106205Z"
    }
   },
   "outputs": [
    {
     "name": "stderr",
     "output_type": "stream",
     "text": [
      "\r",
      "0it [00:00, ?it/s]"
     ]
    },
    {
     "name": "stdout",
     "output_type": "stream",
     "text": [
      "PDF is preparing to convert into document [#3 pages]\n"
     ]
    },
    {
     "name": "stderr",
     "output_type": "stream",
     "text": [
      "3it [00:12,  4.01s/it]\n",
      "3it [00:00, 53.06it/s]"
     ]
    },
    {
     "name": "stdout",
     "output_type": "stream",
     "text": [
      "Done! Your document can be find here \"./samples/sample-pdf-text.docx\"\n"
     ]
    },
    {
     "name": "stderr",
     "output_type": "stream",
     "text": [
      "\n"
     ]
    }
   ],
   "source": [
    "pdf_to_word('./samples/sample-pdf-text.pdf', './samples/')"
   ]
  },
  {
   "cell_type": "code",
   "execution_count": 78,
   "metadata": {
    "ExecuteTime": {
     "end_time": "2020-04-26T14:56:21.547868Z",
     "start_time": "2020-04-26T14:56:08.738660Z"
    }
   },
   "outputs": [
    {
     "name": "stderr",
     "output_type": "stream",
     "text": [
      "\r",
      "0it [00:00, ?it/s]"
     ]
    },
    {
     "name": "stdout",
     "output_type": "stream",
     "text": [
      "PDF is preparing to convert into document [#3 pages]\n"
     ]
    },
    {
     "name": "stderr",
     "output_type": "stream",
     "text": [
      "3it [00:12,  4.02s/it]\n",
      "3it [00:00, 89.31it/s]"
     ]
    },
    {
     "name": "stdout",
     "output_type": "stream",
     "text": [
      "Done! Your document can be find here \"./samples/sample-pdf-image.docx\"\n"
     ]
    },
    {
     "name": "stderr",
     "output_type": "stream",
     "text": [
      "\n"
     ]
    }
   ],
   "source": [
    "pdf_to_word('./samples/sample-pdf-image.pdf', './samples/')"
   ]
  },
  {
   "cell_type": "code",
   "execution_count": null,
   "metadata": {},
   "outputs": [],
   "source": []
  }
 ],
 "metadata": {
  "kernelspec": {
   "display_name": "Python 3",
   "language": "python",
   "name": "python3"
  },
  "language_info": {
   "codemirror_mode": {
    "name": "ipython",
    "version": 3
   },
   "file_extension": ".py",
   "mimetype": "text/x-python",
   "name": "python",
   "nbconvert_exporter": "python",
   "pygments_lexer": "ipython3",
   "version": "3.7.6"
  },
  "toc": {
   "base_numbering": 1,
   "nav_menu": {},
   "number_sections": true,
   "sideBar": true,
   "skip_h1_title": false,
   "title_cell": "Table of Contents",
   "title_sidebar": "Contents",
   "toc_cell": false,
   "toc_position": {},
   "toc_section_display": true,
   "toc_window_display": false
  }
 },
 "nbformat": 4,
 "nbformat_minor": 4
}
